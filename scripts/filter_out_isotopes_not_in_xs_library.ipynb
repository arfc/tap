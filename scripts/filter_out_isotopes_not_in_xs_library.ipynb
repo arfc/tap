{
 "cells": [
  {
   "cell_type": "code",
   "execution_count": null,
   "metadata": {
    "collapsed": true
   },
   "outputs": [],
   "source": [
    "import numpy as np\n",
    "from pyne import nucname"
   ]
  },
  {
   "cell_type": "code",
   "execution_count": null,
   "metadata": {
    "collapsed": true
   },
   "outputs": [],
   "source": [
    "xs_path = '/home/andrei2/serpent/xsdata/jeff312/sss_jeff312.xsdata'\n",
    "# isotope_list = './msfr_composition_300d_after_startup.ini'\n",
    "isotope_list = '../solid-b4c-rods/mat_composition_after_4_days_raw.ini'\n",
    "new_isotope_list = '../solid-b4c-rods/mat_composition_after_4_days.ini'\n",
    "\n"
   ]
  },
  {
   "cell_type": "code",
   "execution_count": null,
   "metadata": {},
   "outputs": [],
   "source": [
    "def get_isotope_list(iso_list_path):\n",
    "    \"\"\" Returns the isotopes and wt.% from Serpent composition file\n",
    "    Parameters:\n",
    "    -----------\n",
    "    Returns:\n",
    "    --------\n",
    "    iso_array: array\n",
    "        array of isotopes\n",
    "    \"\"\"\n",
    "    isos = {}\n",
    "    with open(iso_list_path, 'r') as f:\n",
    "        lines = f.readlines()\n",
    "        heading = lines[5]\n",
    "        for line in lines[6:]:\n",
    "            iso_code = line.split()[0]\n",
    "            wt_frac = line.split()[1]\n",
    "            isos[iso_code] = float(wt_frac)\n",
    "    return isos, heading\n",
    "\n",
    "    \n",
    "def check_isotope_in_library(isotope, lib_isos):\n",
    "    \"\"\" Check if an isotope is in the acelib library\n",
    "         used for this simulation\n",
    "    Returns:\n",
    "    --------\n",
    "    bool:\n",
    "         True if  in library\n",
    "         False if not in library\n",
    "    \"\"\"\n",
    "    if isotope not in lib_isos:\n",
    "        # print(isotope)\n",
    "        return False\n",
    "    else:\n",
    "        return True\n",
    "    \n",
    "def get_library_isotopes(acelib_path):\n",
    "    \"\"\" Returns the isotopes in the cross section library\n",
    "    Parameters:\n",
    "    -----------\n",
    "    Returns:\n",
    "    --------\n",
    "    iso_array: array\n",
    "        array of isotopes in cross section library:\n",
    "    \"\"\"\n",
    "    lib_isos_list = []\n",
    "    with open(acelib_path, 'r') as f:\n",
    "        lines = f.readlines()\n",
    "        for line in lines:\n",
    "            iso = line.split()[0]\n",
    "            lib_isos_list.append(iso)\n",
    "    return lib_isos_list\n",
    "\n",
    "def filter_out_and_store(isos, lib_isos, file, heading):\n",
    "    \"\"\" Filter out isotopes which are not in XS library and\n",
    "     stores new list in Serpent input file\n",
    "    Parameters:\n",
    "    -----------\n",
    "    Returns:\n",
    "    --------\n",
    "    Serpent input file\n",
    "    \"\"\"\n",
    "    matf = open(file, 'w')\n",
    "    matf.write(heading)\n",
    "    for iso, wt_frac in isos.items():\n",
    "        if check_isotope_in_library(iso, lib_isos):\n",
    "            matf.write('           %9s  %7.14E\\n' %\n",
    "                      (iso, wt_frac))\n",
    "    \n",
    "    matf.close()\n"
   ]
  },
  {
   "cell_type": "code",
   "execution_count": null,
   "metadata": {},
   "outputs": [],
   "source": [
    "isos_dict, head = get_isotope_list(isotope_list)\n",
    "print(len(isos_dict))\n",
    "\n",
    "lib_isos = get_library_isotopes(xs_path)\n",
    "print(len(lib_isos))\n",
    "\n",
    "filter_out_and_store(isos_dict, lib_isos, new_isotope_list, head)\n",
    "\n",
    "#check_isotope_in_library('20060', lib_isos)"
   ]
  }
 ],
 "metadata": {
  "anaconda-cloud": {},
  "kernelspec": {
   "display_name": "Python 3",
   "language": "python",
   "name": "python3"
  },
  "language_info": {
   "codemirror_mode": {
    "name": "ipython",
    "version": 3
   },
   "file_extension": ".py",
   "mimetype": "text/x-python",
   "name": "python",
   "nbconvert_exporter": "python",
   "pygments_lexer": "ipython3",
   "version": "3.5.6"
  }
 },
 "nbformat": 4,
 "nbformat_minor": 1
}
